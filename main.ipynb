{
 "cells": [
  {
   "attachments": {},
   "cell_type": "markdown",
   "metadata": {},
   "source": [
    "# <center> VIRTUAL PAINT IN AIR CANVAS </center>\n",
    "\n",
    "Make sure you have read the README.md file. Ensure that you have opened the notebook in Jupyter notebook (Anaconda Navigator)\n",
    "\n",
    "Click on **Cell > Run All** option to run the notebook (For Anaconda). For closing the window, press 'q' key. For clearing your canvas, select the paint icon in the top left corner of the screen.\n",
    "\n",
    "\n",
    "**Done by:** Raahul R (Nickname in MM Discord server: Not so shy guy)"
   ]
  },
  {
   "attachments": {},
   "cell_type": "markdown",
   "metadata": {},
   "source": [
    "# SOURCE CODE:"
   ]
  },
  {
   "attachments": {},
   "cell_type": "markdown",
   "metadata": {},
   "source": [
    "Importing the required modules"
   ]
  },
  {
   "cell_type": "code",
   "execution_count": 1,
   "metadata": {},
   "outputs": [],
   "source": [
    "import cv2\n",
    "import numpy as np\n",
    "import time\n",
    "import os\n",
    "import mediapipe as mp\n",
    "import HandTrackingModule as htm"
   ]
  },
  {
   "attachments": {},
   "cell_type": "markdown",
   "metadata": {},
   "source": [
    "The position IDs of the hand is kept as a reference\n",
    "\n",
    "<img src = \"https://cdn.discordapp.com/attachments/1033607158119530587/1092458818287435806/image.png\" height = 200px>"
   ]
  },
  {
   "attachments": {},
   "cell_type": "markdown",
   "metadata": {},
   "source": [
    "The paint frames are located inside the Header folder. It is accessed using the os module."
   ]
  },
  {
   "cell_type": "code",
   "execution_count": 2,
   "metadata": {},
   "outputs": [],
   "source": [
    "folderPath = \"Header\"\n",
    "myList = os.listdir(folderPath) # List containing the header filenames\n",
    "#print(myList)\n",
    "overlay = [] # All the images will be appended here\n",
    "drawColor = (255, 0, 255) # Setting up default color which will be then changed"
   ]
  },
  {
   "attachments": {},
   "cell_type": "markdown",
   "metadata": {},
   "source": [
    "Images are imported and stored in a overlay list for overlaying along with webcam"
   ]
  },
  {
   "cell_type": "code",
   "execution_count": 3,
   "metadata": {},
   "outputs": [],
   "source": [
    "for imPath in myList:\n",
    "    image = cv2.imread(f'{folderPath}/{imPath}')\n",
    "    overlay.append(image)"
   ]
  },
  {
   "attachments": {},
   "cell_type": "markdown",
   "metadata": {},
   "source": [
    "Switching on web cam and setting default head as 1.png. Detector object of class handDetector under the custom module, HandTrackingModule is created."
   ]
  },
  {
   "cell_type": "code",
   "execution_count": 4,
   "metadata": {},
   "outputs": [],
   "source": [
    "header = overlay[0]\n",
    "brushThickness = 15 # Thickness of the brush\n",
    "eraserThickness = 50 # Thickness of the eraser\n",
    "cap = cv2.VideoCapture(0)\n",
    "# Setting the image dimensions as 1280 x 720 \n",
    "cap.set(3, 1280)\n",
    "cap.set(4, 720)\n",
    "imgCanvas = np.zeros((720, 1280, 3), np.uint8) # Setting up the canvas\n",
    "detector = htm.handDetector() # Our hand detector object from the module\n",
    "xp, yp = 0, 0 # Brush's previous position"
   ]
  },
  {
   "attachments": {},
   "cell_type": "markdown",
   "metadata": {},
   "source": [
    "The main loop"
   ]
  },
  {
   "cell_type": "code",
   "execution_count": null,
   "metadata": {},
   "outputs": [],
   "source": [
    "while True:\n",
    "    # 1. Import image\n",
    "    success, img = cap.read()\n",
    "    img = cv2.resize(img, (1280, 720)) # Webcam scaling\n",
    "    img = cv2.flip(img, 1) # Flip image\n",
    "\n",
    "    # 2. Find Hand Landmarks\n",
    "    img = detector.findHands(img)\n",
    "    lmList = detector.findPosition(img, draw = False)\n",
    "\n",
    "    if len(lmList) != 0:\n",
    "        #print(lmList) # testing purpose\n",
    "        \n",
    "        x1, y1 = lmList[8][1:] # 8 = tip of index finger\n",
    "        x2, y2 = lmList[12][1:] # 12 = tip of middle finger\n",
    "\n",
    "    # 3. Check which fingers are up\n",
    "    fingers = detector.fingersUp(lmList)\n",
    "    #print(fingers) # testing purpose\n",
    "\n",
    "    # 4. If Selection mode - Two fingers are up\n",
    "    if fingers[1] == 1 and fingers[2] == 1: #Index and middle are up?\n",
    "        xp, yp = 0, 0 # Setting previous and current zero so that drawing can resume\n",
    "        # We draw rectangle for selection mode\n",
    "        # print(\"Selection Mode\") # testing purpose\n",
    "\n",
    "        if y1 < 125: #In header\n",
    "            if 250 < x1 < 450: # Picking Pink\n",
    "                header = overlay[0]\n",
    "                drawColor = (255, 0, 255) # This is a RGB Tuple\n",
    "\n",
    "            elif 550 < x1 < 750: # Picking Blue\n",
    "                header = overlay[1] \n",
    "                drawColor = (255, 0, 0)\n",
    "\n",
    "            elif 800 < x1 < 950: # Picking Green\n",
    "                header = overlay[2]\n",
    "                drawColor = (0, 255, 0)\n",
    "\n",
    "            elif 1050 < x1 < 1200: # Picking Eraser\n",
    "                header = overlay[3]\n",
    "                drawColor = (0, 0, 0)\n",
    "\n",
    "            elif 10 < x1 < 150: # Clear screen by clicking paint icon\n",
    "                header = overlay[3]\n",
    "                drawColor = (0, 0, 0)\n",
    "                imgCanvas = np.zeros((720, 1280, 3), np.uint8)\n",
    "\n",
    "                \n",
    "        cv2.rectangle(img, (x1, y1 - 25), (x2, y2 + 25), drawColor, cv2.FILLED)                \n",
    "\n",
    "    # 5. If Drawing mode - Index finger is up\n",
    "    if fingers[1] == 1 and fingers[2] == 0:\n",
    "        cv2.circle(img, (x1, y1), 15, (255, 0, 255), cv2.FILLED)\n",
    "        # print(\"Drawing Mode\") # testing purpose\n",
    "\n",
    "        # Drawing concept: We are going to draw little lines, that links both\n",
    "        # current coordinates as well as previous coordinates\n",
    "        if xp == 0 and yp == 0:\n",
    "            xp, yp = x1, y1 # Making (0, 0) the first point as current point for first drawing\n",
    "        \n",
    "        # Implementing thicker eraser\n",
    "        if drawColor == (0, 0, 0):\n",
    "            cv2.line(img, (xp, yp), (x1, y1), drawColor, eraserThickness)\n",
    "            cv2.line(imgCanvas, (xp, yp), (x1, y1), drawColor, eraserThickness)\n",
    "        else:\n",
    "            cv2.line(img, (xp, yp), (x1, y1), drawColor, brushThickness)\n",
    "            cv2.line(imgCanvas, (xp, yp), (x1, y1), drawColor, brushThickness)\n",
    "        xp, yp = x1, y1 # Updating previous coordinates\n",
    "\n",
    "\n",
    "    # Series of image conversions and logical operators that can merge images together \n",
    "    imgGray = cv2.cvtColor(imgCanvas, cv2.COLOR_BGR2GRAY) # Convert to img to gray\n",
    "    _, imgInv = cv2.threshold(imgGray, 50, 255, cv2.THRESH_BINARY_INV) # Convert gray to binary\n",
    "    imgInv = cv2.cvtColor(imgInv, cv2.COLOR_GRAY2BGR) # Invert canvas\n",
    "    img = cv2.bitwise_and(img, imgInv) # And\n",
    "    img = cv2.bitwise_or(img, imgCanvas) # Or\n",
    "\n",
    "    #Setting up the header\n",
    "    img[0: 125, 0: 1280] = header\n",
    "\n",
    "    # img.addWeighted(img, 0.5, imgCanvas, 0.5) # previous merge idea. But had an issue.\n",
    "    cv2.imshow(\"Virtual Painter\", img)\n",
    "    # cv2.imshow(\"Canvas\", imgCanvas) # testing purpose\n",
    "    \n",
    "    # Exit if 'q' key is pressed\n",
    "    if cv2.waitKey(1) & 0xFF == ord('q'):\n",
    "        break\n",
    "\n",
    "cap.release()\n",
    "cv2.destroyAllWindows()"
   ]
  }
 ],
 "metadata": {
  "kernelspec": {
   "display_name": "Python 3",
   "language": "python",
   "name": "python3"
  },
  "language_info": {
   "codemirror_mode": {
    "name": "ipython",
    "version": 3
   },
   "file_extension": ".py",
   "mimetype": "text/x-python",
   "name": "python",
   "nbconvert_exporter": "python",
   "pygments_lexer": "ipython3",
   "version": "3.10.7"
  },
  "orig_nbformat": 4
 },
 "nbformat": 4,
 "nbformat_minor": 2
}
